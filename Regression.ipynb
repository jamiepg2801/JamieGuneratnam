{
  "nbformat": 4,
  "nbformat_minor": 0,
  "metadata": {
    "colab": {
      "name": "Regression.ipynb",
      "provenance": [],
      "authorship_tag": "ABX9TyOdfO8Odmg/gxZwKsDBaZ8K",
      "include_colab_link": true
    },
    "kernelspec": {
      "name": "python3",
      "display_name": "Python 3"
    },
    "language_info": {
      "name": "python"
    }
  },
  "cells": [
    {
      "cell_type": "markdown",
      "metadata": {
        "id": "view-in-github",
        "colab_type": "text"
      },
      "source": [
        "<a href=\"https://colab.research.google.com/github/jamieprince/jamieprince.github.io/blob/main/Regression.ipynb\" target=\"_parent\"><img src=\"https://colab.research.google.com/assets/colab-badge.svg\" alt=\"Open In Colab\"/></a>"
      ]
    },
    {
      "cell_type": "code",
      "metadata": {
        "collapsed": true,
        "id": "nP_s_9riNFi_"
      },
      "source": [
        "import matplotlib.pyplot as plt\n",
        "plt.style.use('classic')\n",
        "%matplotlib inline\n",
        "import numpy as np\n",
        "import pandas as pd"
      ],
      "execution_count": 1,
      "outputs": []
    },
    {
      "cell_type": "code",
      "metadata": {
        "id": "Gs1NeNwxsjSE"
      },
      "source": [
        "data2=pd.read_csv('correlation.csv')"
      ],
      "execution_count": 2,
      "outputs": []
    },
    {
      "cell_type": "code",
      "metadata": {
        "colab": {
          "base_uri": "https://localhost:8080/",
          "height": 520
        },
        "id": "oaeSenLFVNko",
        "outputId": "ade55fcd-5bc7-4840-ab4d-f317702a3530"
      },
      "source": [
        "data2"
      ],
      "execution_count": 3,
      "outputs": [
        {
          "output_type": "execute_result",
          "data": {
            "text/html": [
              "\n",
              "  <div id=\"df-4a137775-e4e6-4eed-a28a-538d64a5d452\">\n",
              "    <div class=\"colab-df-container\">\n",
              "      <div>\n",
              "<style scoped>\n",
              "    .dataframe tbody tr th:only-of-type {\n",
              "        vertical-align: middle;\n",
              "    }\n",
              "\n",
              "    .dataframe tbody tr th {\n",
              "        vertical-align: top;\n",
              "    }\n",
              "\n",
              "    .dataframe thead th {\n",
              "        text-align: right;\n",
              "    }\n",
              "</style>\n",
              "<table border=\"1\" class=\"dataframe\">\n",
              "  <thead>\n",
              "    <tr style=\"text-align: right;\">\n",
              "      <th></th>\n",
              "      <th>Year</th>\n",
              "      <th>Country</th>\n",
              "      <th>Number of Billionaires</th>\n",
              "      <th>Gross enrolment ratio for tertiary education both sexes (%)</th>\n",
              "      <th>Educational attainment at least completed short-cycle tertiary population 25+ total (%) (cumulative)</th>\n",
              "      <th>GDP per capita</th>\n",
              "    </tr>\n",
              "  </thead>\n",
              "  <tbody>\n",
              "    <tr>\n",
              "      <th>0</th>\n",
              "      <td>2018</td>\n",
              "      <td>Kazakhstan</td>\n",
              "      <td>5</td>\n",
              "      <td>53.99</td>\n",
              "      <td>73.91</td>\n",
              "      <td>9812.63</td>\n",
              "    </tr>\n",
              "    <tr>\n",
              "      <th>1</th>\n",
              "      <td>2016</td>\n",
              "      <td>Canada</td>\n",
              "      <td>39</td>\n",
              "      <td>66.44</td>\n",
              "      <td>49.67</td>\n",
              "      <td>42315.60</td>\n",
              "    </tr>\n",
              "    <tr>\n",
              "      <th>2</th>\n",
              "      <td>2019</td>\n",
              "      <td>Singapore</td>\n",
              "      <td>21</td>\n",
              "      <td>0.00</td>\n",
              "      <td>48.15</td>\n",
              "      <td>65640.71</td>\n",
              "    </tr>\n",
              "    <tr>\n",
              "      <th>3</th>\n",
              "      <td>2020</td>\n",
              "      <td>United States</td>\n",
              "      <td>614</td>\n",
              "      <td>0.00</td>\n",
              "      <td>48.09</td>\n",
              "      <td>63413.51</td>\n",
              "    </tr>\n",
              "    <tr>\n",
              "      <th>4</th>\n",
              "      <td>2020</td>\n",
              "      <td>United Kingdom</td>\n",
              "      <td>45</td>\n",
              "      <td>0.00</td>\n",
              "      <td>47.24</td>\n",
              "      <td>41124.53</td>\n",
              "    </tr>\n",
              "    <tr>\n",
              "      <th>...</th>\n",
              "      <td>...</td>\n",
              "      <td>...</td>\n",
              "      <td>...</td>\n",
              "      <td>...</td>\n",
              "      <td>...</td>\n",
              "      <td>...</td>\n",
              "    </tr>\n",
              "    <tr>\n",
              "      <th>355</th>\n",
              "      <td>2016</td>\n",
              "      <td>Ukraine</td>\n",
              "      <td>0</td>\n",
              "      <td>0.00</td>\n",
              "      <td>0.00</td>\n",
              "      <td>2187.73</td>\n",
              "    </tr>\n",
              "    <tr>\n",
              "      <th>356</th>\n",
              "      <td>2016</td>\n",
              "      <td>Nigeria</td>\n",
              "      <td>0</td>\n",
              "      <td>0.00</td>\n",
              "      <td>0.00</td>\n",
              "      <td>2176.00</td>\n",
              "    </tr>\n",
              "    <tr>\n",
              "      <th>357</th>\n",
              "      <td>2015</td>\n",
              "      <td>Ukraine</td>\n",
              "      <td>0</td>\n",
              "      <td>0.00</td>\n",
              "      <td>0.00</td>\n",
              "      <td>2124.66</td>\n",
              "    </tr>\n",
              "    <tr>\n",
              "      <th>358</th>\n",
              "      <td>2016</td>\n",
              "      <td>Zimbabwe</td>\n",
              "      <td>0</td>\n",
              "      <td>0.00</td>\n",
              "      <td>0.00</td>\n",
              "      <td>1464.59</td>\n",
              "    </tr>\n",
              "    <tr>\n",
              "      <th>359</th>\n",
              "      <td>2016</td>\n",
              "      <td>Tanzania</td>\n",
              "      <td>0</td>\n",
              "      <td>0.00</td>\n",
              "      <td>0.00</td>\n",
              "      <td>966.50</td>\n",
              "    </tr>\n",
              "  </tbody>\n",
              "</table>\n",
              "<p>360 rows × 6 columns</p>\n",
              "</div>\n",
              "      <button class=\"colab-df-convert\" onclick=\"convertToInteractive('df-4a137775-e4e6-4eed-a28a-538d64a5d452')\"\n",
              "              title=\"Convert this dataframe to an interactive table.\"\n",
              "              style=\"display:none;\">\n",
              "        \n",
              "  <svg xmlns=\"http://www.w3.org/2000/svg\" height=\"24px\"viewBox=\"0 0 24 24\"\n",
              "       width=\"24px\">\n",
              "    <path d=\"M0 0h24v24H0V0z\" fill=\"none\"/>\n",
              "    <path d=\"M18.56 5.44l.94 2.06.94-2.06 2.06-.94-2.06-.94-.94-2.06-.94 2.06-2.06.94zm-11 1L8.5 8.5l.94-2.06 2.06-.94-2.06-.94L8.5 2.5l-.94 2.06-2.06.94zm10 10l.94 2.06.94-2.06 2.06-.94-2.06-.94-.94-2.06-.94 2.06-2.06.94z\"/><path d=\"M17.41 7.96l-1.37-1.37c-.4-.4-.92-.59-1.43-.59-.52 0-1.04.2-1.43.59L10.3 9.45l-7.72 7.72c-.78.78-.78 2.05 0 2.83L4 21.41c.39.39.9.59 1.41.59.51 0 1.02-.2 1.41-.59l7.78-7.78 2.81-2.81c.8-.78.8-2.07 0-2.86zM5.41 20L4 18.59l7.72-7.72 1.47 1.35L5.41 20z\"/>\n",
              "  </svg>\n",
              "      </button>\n",
              "      \n",
              "  <style>\n",
              "    .colab-df-container {\n",
              "      display:flex;\n",
              "      flex-wrap:wrap;\n",
              "      gap: 12px;\n",
              "    }\n",
              "\n",
              "    .colab-df-convert {\n",
              "      background-color: #E8F0FE;\n",
              "      border: none;\n",
              "      border-radius: 50%;\n",
              "      cursor: pointer;\n",
              "      display: none;\n",
              "      fill: #1967D2;\n",
              "      height: 32px;\n",
              "      padding: 0 0 0 0;\n",
              "      width: 32px;\n",
              "    }\n",
              "\n",
              "    .colab-df-convert:hover {\n",
              "      background-color: #E2EBFA;\n",
              "      box-shadow: 0px 1px 2px rgba(60, 64, 67, 0.3), 0px 1px 3px 1px rgba(60, 64, 67, 0.15);\n",
              "      fill: #174EA6;\n",
              "    }\n",
              "\n",
              "    [theme=dark] .colab-df-convert {\n",
              "      background-color: #3B4455;\n",
              "      fill: #D2E3FC;\n",
              "    }\n",
              "\n",
              "    [theme=dark] .colab-df-convert:hover {\n",
              "      background-color: #434B5C;\n",
              "      box-shadow: 0px 1px 3px 1px rgba(0, 0, 0, 0.15);\n",
              "      filter: drop-shadow(0px 1px 2px rgba(0, 0, 0, 0.3));\n",
              "      fill: #FFFFFF;\n",
              "    }\n",
              "  </style>\n",
              "\n",
              "      <script>\n",
              "        const buttonEl =\n",
              "          document.querySelector('#df-4a137775-e4e6-4eed-a28a-538d64a5d452 button.colab-df-convert');\n",
              "        buttonEl.style.display =\n",
              "          google.colab.kernel.accessAllowed ? 'block' : 'none';\n",
              "\n",
              "        async function convertToInteractive(key) {\n",
              "          const element = document.querySelector('#df-4a137775-e4e6-4eed-a28a-538d64a5d452');\n",
              "          const dataTable =\n",
              "            await google.colab.kernel.invokeFunction('convertToInteractive',\n",
              "                                                     [key], {});\n",
              "          if (!dataTable) return;\n",
              "\n",
              "          const docLinkHtml = 'Like what you see? Visit the ' +\n",
              "            '<a target=\"_blank\" href=https://colab.research.google.com/notebooks/data_table.ipynb>data table notebook</a>'\n",
              "            + ' to learn more about interactive tables.';\n",
              "          element.innerHTML = '';\n",
              "          dataTable['output_type'] = 'display_data';\n",
              "          await google.colab.output.renderOutput(dataTable, element);\n",
              "          const docLink = document.createElement('div');\n",
              "          docLink.innerHTML = docLinkHtml;\n",
              "          element.appendChild(docLink);\n",
              "        }\n",
              "      </script>\n",
              "    </div>\n",
              "  </div>\n",
              "  "
            ],
            "text/plain": [
              "     Year  ... GDP per capita\n",
              "0    2018  ...        9812.63\n",
              "1    2016  ...       42315.60\n",
              "2    2019  ...       65640.71\n",
              "3    2020  ...       63413.51\n",
              "4    2020  ...       41124.53\n",
              "..    ...  ...            ...\n",
              "355  2016  ...        2187.73\n",
              "356  2016  ...        2176.00\n",
              "357  2015  ...        2124.66\n",
              "358  2016  ...        1464.59\n",
              "359  2016  ...         966.50\n",
              "\n",
              "[360 rows x 6 columns]"
            ]
          },
          "metadata": {},
          "execution_count": 3
        }
      ]
    },
    {
      "cell_type": "code",
      "metadata": {
        "collapsed": true,
        "id": "k0KIHm8MNFjB"
      },
      "source": [
        "x = data2['Educational attainment at least completed short-cycle tertiary population 25+ total (%) (cumulative)'].values\n",
        "y = data2['GDP per capita'].values\n",
        "y1 = data2[data2.columns[5]]\n",
        "y2 = data2[data2.columns[2]]\n",
        "y3 = data2[data2.columns[3]]"
      ],
      "execution_count": 4,
      "outputs": []
    },
    {
      "cell_type": "code",
      "source": [
        "data3 = data2[data2 != 0.].dropna(axis=0)"
      ],
      "metadata": {
        "id": "hyRsEtAYhspV"
      },
      "execution_count": 5,
      "outputs": []
    },
    {
      "cell_type": "code",
      "source": [
        "data3.to_csv('correlationcleaned.csv')"
      ],
      "metadata": {
        "id": "muwaVN-yjHZH"
      },
      "execution_count": 6,
      "outputs": []
    },
    {
      "cell_type": "code",
      "metadata": {
        "id": "2TkizSDYNFjD"
      },
      "source": [
        "import seaborn as sns\n",
        "sns.set()"
      ],
      "execution_count": 7,
      "outputs": []
    },
    {
      "cell_type": "code",
      "source": [
        "data4=pd.read_csv('correlationcleaned.csv')"
      ],
      "metadata": {
        "id": "BB9cv48Wj7UP"
      },
      "execution_count": 10,
      "outputs": []
    },
    {
      "cell_type": "markdown",
      "source": [
        "Educational Attainment & GDP per Capita"
      ],
      "metadata": {
        "id": "-UCF2MSlXmCS"
      }
    },
    {
      "cell_type": "code",
      "metadata": {
        "colab": {
          "base_uri": "https://localhost:8080/",
          "height": 314
        },
        "id": "uZm8CpXcE6uS",
        "outputId": "69504db9-5436-44dc-bb56-f8af036f3fd2"
      },
      "source": [
        "sns.regplot(x='Educational attainment at least completed short-cycle tertiary population 25+ total (%) (cumulative)',y='GDP per capita',data=data4)\n",
        "plt.xlabel('Educational attainment')\n",
        "plt.ylabel('GDP per capita')"
      ],
      "execution_count": 11,
      "outputs": [
        {
          "output_type": "execute_result",
          "data": {
            "text/plain": [
              "Text(0, 0.5, 'GDP per capita')"
            ]
          },
          "metadata": {},
          "execution_count": 11
        },
        {
          "output_type": "display_data",
          "data": {
            "image/png": "[encoded data removed]",
            "text/plain": [
              "<Figure size 432x288 with 1 Axes>"
            ]
          },
          "metadata": {}
        }
      ]
    },
    {
      "cell_type": "code",
      "source": [
        "from scipy.stats import linregress"
      ],
      "metadata": {
        "id": "kdK74ggpd_2Y"
      },
      "execution_count": 12,
      "outputs": []
    },
    {
      "cell_type": "code",
      "metadata": {
        "id": "L6djUZihFpiW"
      },
      "source": [
        "slope, intercept, rvalue, pvalue, stderr = linregress(x=data4.dropna()['Educational attainment at least completed short-cycle tertiary population 25+ total (%) (cumulative)'], y=data4.dropna()['GDP per capita'])"
      ],
      "execution_count": 13,
      "outputs": []
    },
    {
      "cell_type": "code",
      "metadata": {
        "colab": {
          "base_uri": "https://localhost:8080/"
        },
        "id": "kAYhvIM3GXcs",
        "outputId": "99e87780-35e9-4d02-f102-4f6a0611a8af"
      },
      "source": [
        "print('y = ',np.round(slope,2),' * x + ',np.round(intercept,2))\n",
        "print('R² = ',np.round(rvalue**2,2))"
      ],
      "execution_count": 14,
      "outputs": [
        {
          "output_type": "stream",
          "name": "stdout",
          "text": [
            "y =  1268.86  * x +  -3372.16\n",
            "R² =  0.41\n"
          ]
        }
      ]
    },
    {
      "cell_type": "markdown",
      "source": [
        "Educational Attainment & The Number of Billionaires"
      ],
      "metadata": {
        "id": "0uRWjpVnXdrY"
      }
    },
    {
      "cell_type": "code",
      "source": [
        "sns.regplot(x='Educational attainment at least completed short-cycle tertiary population 25+ total (%) (cumulative)',y='Number of Billionaires',data=data4)\n",
        "plt.xlabel('Educational attainment')\n",
        "plt.ylabel('Number of Billionaires')"
      ],
      "metadata": {
        "colab": {
          "base_uri": "https://localhost:8080/",
          "height": 314
        },
        "id": "Alb8VMRyWz1k",
        "outputId": "9c122bbb-afd9-4946-eab4-514a62bd46a6"
      },
      "execution_count": 18,
      "outputs": [
        {
          "output_type": "execute_result",
          "data": {
            "text/plain": [
              "Text(0, 0.5, 'Number of Billionaires')"
            ]
          },
          "metadata": {},
          "execution_count": 18
        },
        {
          "output_type": "display_data",
          "data": {
            "image/png": "[encoded data removed]",
            "text/plain": [
              "<Figure size 432x288 with 1 Axes>"
            ]
          },
          "metadata": {}
        }
      ]
    },
    {
      "cell_type": "code",
      "source": [
        "slope, intercept, rvalue, pvalue, stderr = linregress(x=data4.dropna()['Educational attainment at least completed short-cycle tertiary population 25+ total (%) (cumulative)'], y=data4.dropna()['Number of Billionaires'])"
      ],
      "metadata": {
        "id": "6uiiylKhXMBo"
      },
      "execution_count": 19,
      "outputs": []
    },
    {
      "cell_type": "code",
      "source": [
        "print('y = ',np.round(slope,2),' * x + ',np.round(intercept,2))\n",
        "print('R² = ',np.round(rvalue**2,2))"
      ],
      "metadata": {
        "colab": {
          "base_uri": "https://localhost:8080/"
        },
        "id": "wBrknLomXU-I",
        "outputId": "23308685-6037-4a60-a25b-61ff23f208d0"
      },
      "execution_count": 20,
      "outputs": [
        {
          "output_type": "stream",
          "name": "stdout",
          "text": [
            "y =  2.3  * x +  -32.35\n",
            "R² =  0.07\n"
          ]
        }
      ]
    },
    {
      "cell_type": "markdown",
      "source": [
        "Number of Billionaires & GDP per capita"
      ],
      "metadata": {
        "id": "WpnLkv3_XuhY"
      }
    },
    {
      "cell_type": "code",
      "source": [
        "sns.regplot(x='Number of Billionaires',y='GDP per capita',data=data4)\n",
        "plt.xlabel('Number of Billionaires')\n",
        "plt.ylabel('GDP per capita')"
      ],
      "metadata": {
        "colab": {
          "base_uri": "https://localhost:8080/",
          "height": 314
        },
        "id": "pul72KV4Xtdm",
        "outputId": "ca5919d0-4110-4558-9d89-2bdcab36aec6"
      },
      "execution_count": 21,
      "outputs": [
        {
          "output_type": "execute_result",
          "data": {
            "text/plain": [
              "Text(0, 0.5, 'GDP per capita')"
            ]
          },
          "metadata": {},
          "execution_count": 21
        },
        {
          "output_type": "display_data",
          "data": {
            "image/png": "[encoded data removed]",
            "text/plain": [
              "<Figure size 432x288 with 1 Axes>"
            ]
          },
          "metadata": {}
        }
      ]
    },
    {
      "cell_type": "code",
      "source": [
        "slope, intercept, rvalue, pvalue, stderr = linregress(x=data4.dropna()['Number of Billionaires'], y=data4.dropna()['GDP per capita'])"
      ],
      "metadata": {
        "id": "fv4s1t66YIRh"
      },
      "execution_count": 22,
      "outputs": []
    },
    {
      "cell_type": "code",
      "source": [
        "print('y = ',np.round(slope,2),' * x + ',np.round(intercept,2))\n",
        "print('R² = ',np.round(rvalue**2,2))"
      ],
      "metadata": {
        "colab": {
          "base_uri": "https://localhost:8080/"
        },
        "id": "5sm1WCXAYKE8",
        "outputId": "cc4f4326-6fbb-432f-a3fb-db285966a4cc"
      },
      "execution_count": 23,
      "outputs": [
        {
          "output_type": "stream",
          "name": "stdout",
          "text": [
            "y =  61.85  * x +  31176.97\n",
            "R² =  0.08\n"
          ]
        }
      ]
    }
  ]
}